{
  "cells": [
    {
      "cell_type": "markdown",
      "metadata": {
        "id": "6aJqh4kr2nYM"
      },
      "source": [
        "# Chiamaka Aghaizu"
      ]
    },
    {
      "cell_type": "code",
      "execution_count": null,
      "metadata": {
        "colab": {
          "base_uri": "https://localhost:8080/"
        },
        "id": "U2lXaAjFLiVf",
        "outputId": "bf7b1b61-3e19-4be0-a272-fc13f04dc987"
      },
      "outputs": [
        {
          "name": "stdout",
          "output_type": "stream",
          "text": [
            "Drive already mounted at /content/drive; to attempt to forcibly remount, call drive.mount(\"/content/drive\", force_remount=True).\n"
          ]
        }
      ],
      "source": [
        "import tensorflow as tf                                                          # ImportingLibraries\n",
        "from tensorflow import keras\n",
        "from keras.models import Sequential\n",
        "from keras import layers\n",
        "from keras.layers import Conv2D,MaxPool2D, Dense, Dropout, Flatten, BatchNormalization\n",
        "from keras.preprocessing.image import ImageDataGenerator, array_to_img, img_to_array, load_img\n",
        "from keras.optimizer_v2.adam import Adam\n",
        "import matplotlib.pyplot as plt\n",
        "from keras.callbacks import EarlyStopping, ModelCheckpoint, ReduceLROnPlateau\n",
        "from keras.models import load_model\n",
        "from keras import Model\n",
        "from sklearn.metrics import confusion_matrix, classification_report, accuracy_score\n",
        "from sklearn.model_selection import train_test_split\n",
        "from tensorflow.keras.utils import to_categorical\n",
        "import numpy as np\n",
        "\n",
        "import os\n",
        "import random\n",
        "import glob\n",
        "from PIL import Image, ImageOps\n",
        "\n",
        "import warnings\n",
        "warnings.filterwarnings('ignore')\n",
        "warnings.simplefilter('ignore')\n",
        "from google.colab import drive\n",
        "drive.mount('/content/drive')"
      ]
    },
    {
      "cell_type": "code",
      "execution_count": null,
      "metadata": {
        "id": "A0nL_lpyxIqO"
      },
      "outputs": [],
      "source": [
        "dataset= glob.glob('/content/drive/MyDrive/UTKFace/UTKFace/*_*_*_*')             #  name is age_gender_ethnicity_*  keep only files with that format"
      ]
    },
    {
      "cell_type": "code",
      "execution_count": null,
      "metadata": {
        "id": "1kPjO4mRySsR"
      },
      "outputs": [],
      "source": [
        "random.shuffle(dataset)"
      ]
    },
    {
      "cell_type": "code",
      "execution_count": null,
      "metadata": {
        "id": "hzWCZugEFFOY"
      },
      "outputs": [],
      "source": [
        "age = [i.split('_')[0].split('/')[-1] for i in dataset]\n",
        "gender = [i.split('_')[1] for i in dataset]\n",
        "ethnicity = [i.split('_')[2] for i in dataset]"
      ]
    },
    {
      "cell_type": "code",
      "execution_count": null,
      "metadata": {
        "id": "Wc6YilG4FFWx"
      },
      "outputs": [],
      "source": [
        "age = list(map(int, age))                                                        #string to int\n",
        "gender = list(map(int,gender))\n",
        "ethnicity = list(map(int,ethnicity))"
      ]
    },
    {
      "cell_type": "code",
      "execution_count": null,
      "metadata": {
        "id": "uPml-ePQFREN"
      },
      "outputs": [],
      "source": [
        "gender_classes = to_categorical(gender, num_classes=2)\n",
        "ethnicity_classes = to_categorical(ethnicity,num_classes=5)"
      ]
    },
    {
      "cell_type": "markdown",
      "metadata": {
        "id": "ndTGfMxgc-mO"
      },
      "source": [
        " Transfer Learning using VGG16"
      ]
    },
    {
      "cell_type": "code",
      "execution_count": null,
      "metadata": {
        "id": "W-5vrcMze4vk"
      },
      "outputs": [],
      "source": [
        "X_data2 =[]\n",
        "count=0\n",
        "for i in dataset[:12000]:\n",
        "  face = Image.open(i)\n",
        "  face = face.resize((128, 128))\n",
        "  X_data2.append(np.asarray(face))\n",
        "\n",
        "\n",
        "X2 = np.squeeze(X_data2)\n",
        "X2 = X2.astype('float32')\n",
        "X2 /= 255"
      ]
    },
    {
      "cell_type": "code",
      "execution_count": null,
      "metadata": {
        "id": "lAYMXE_7E88p"
      },
      "outputs": [],
      "source": [
        "X3=X2"
      ]
    },
    {
      "cell_type": "markdown",
      "metadata": {
        "id": "v5zgwBbp3HNU"
      },
      "source": [
        "# Predict on Age\n",
        "\n",
        "\n"
      ]
    },
    {
      "cell_type": "code",
      "execution_count": null,
      "metadata": {
        "colab": {
          "base_uri": "https://localhost:8080/"
        },
        "id": "pZ3aMWrS7Y3C",
        "outputId": "07241eab-b832-4159-b40d-3d6a69303976",
        "collapsed": true
      },
      "outputs": [
        {
          "name": "stdout",
          "output_type": "stream",
          "text": [
            "Model: \"vgg16\"\n",
            "_________________________________________________________________\n",
            " Layer (type)                Output Shape              Param #   \n",
            "=================================================================\n",
            " input_1 (InputLayer)        [(None, 128, 128, 3)]     0         \n",
            "                                                                 \n",
            " block1_conv1 (Conv2D)       (None, 128, 128, 64)      1792      \n",
            "                                                                 \n",
            " block1_conv2 (Conv2D)       (None, 128, 128, 64)      36928     \n",
            "                                                                 \n",
            " block1_pool (MaxPooling2D)  (None, 64, 64, 64)        0         \n",
            "                                                                 \n",
            " block2_conv1 (Conv2D)       (None, 64, 64, 128)       73856     \n",
            "                                                                 \n",
            " block2_conv2 (Conv2D)       (None, 64, 64, 128)       147584    \n",
            "                                                                 \n",
            " block2_pool (MaxPooling2D)  (None, 32, 32, 128)       0         \n",
            "                                                                 \n",
            " block3_conv1 (Conv2D)       (None, 32, 32, 256)       295168    \n",
            "                                                                 \n",
            " block3_conv2 (Conv2D)       (None, 32, 32, 256)       590080    \n",
            "                                                                 \n",
            " block3_conv3 (Conv2D)       (None, 32, 32, 256)       590080    \n",
            "                                                                 \n",
            " block3_pool (MaxPooling2D)  (None, 16, 16, 256)       0         \n",
            "                                                                 \n",
            " block4_conv1 (Conv2D)       (None, 16, 16, 512)       1180160   \n",
            "                                                                 \n",
            " block4_conv2 (Conv2D)       (None, 16, 16, 512)       2359808   \n",
            "                                                                 \n",
            " block4_conv3 (Conv2D)       (None, 16, 16, 512)       2359808   \n",
            "                                                                 \n",
            " block4_pool (MaxPooling2D)  (None, 8, 8, 512)         0         \n",
            "                                                                 \n",
            " block5_conv1 (Conv2D)       (None, 8, 8, 512)         2359808   \n",
            "                                                                 \n",
            " block5_conv2 (Conv2D)       (None, 8, 8, 512)         2359808   \n",
            "                                                                 \n",
            " block5_conv3 (Conv2D)       (None, 8, 8, 512)         2359808   \n",
            "                                                                 \n",
            " block5_pool (MaxPooling2D)  (None, 4, 4, 512)         0         \n",
            "                                                                 \n",
            "=================================================================\n",
            "Total params: 14,714,688\n",
            "Trainable params: 0\n",
            "Non-trainable params: 14,714,688\n",
            "_________________________________________________________________\n"
          ]
        }
      ],
      "source": [
        "X2_train_age,X2_val_age, y2_train_age, y2_val_age = train_test_split(X2,age[:12000], test_size=0.30)\n",
        "from tensorflow.keras.applications.vgg16 import VGG16\n",
        "from tensorflow.keras.applications.vgg16 import preprocess_input\n",
        "\n",
        "## Loading VGG\n",
        "base_model = VGG16(weights=\"imagenet\", include_top=False, input_shape=(128,128,3))\n",
        "base_model.trainable = False\n",
        "base_model.summary()"
      ]
    },
    {
      "cell_type": "code",
      "execution_count": null,
      "metadata": {
        "id": "Yb9KM8NBdOiD"
      },
      "outputs": [],
      "source": [
        "vgg_model_age = Sequential([\n",
        "    base_model,\n",
        "\n",
        "    Flatten(),                                                                    # Flatten out layers\n",
        "    Dense(512, activation='relu'),\n",
        "    Dropout(0.05),\n",
        "\n",
        "    Dense(128, activation='relu'),\n",
        "    Dropout(0.05),\n",
        "\n",
        "    Dense(32, activation='relu'),\n",
        "    Dense(1, activation='linear')\n",
        "])"
      ]
    },
    {
      "cell_type": "code",
      "execution_count": null,
      "metadata": {
        "id": "oceDLhu-jZDo"
      },
      "outputs": [],
      "source": [
        "X2_train_age,X2_val_age, y2_train_age, y2_val_age = np.array(X2_train_age),np.array(X2_val_age), np.array(y2_train_age), np.array(y2_val_age)"
      ]
    },
    {
      "cell_type": "code",
      "execution_count": null,
      "metadata": {
        "id": "uvcc6VZX8FRf"
      },
      "outputs": [],
      "source": [
        "#   Early stopping for less overfitting and Decay Learning Rate less overshoot\n",
        "\n",
        "early_stopping=EarlyStopping(monitor='val_loss',\n",
        "                            min_delta=0.0001,\n",
        "                            patience=5,\n",
        "                            verbose=2,\n",
        "                            restore_best_weights=True)\n",
        "decay_lr= ReduceLROnPlateau(monitor='val_loss',\n",
        "                           factor=0.2,\n",
        "                           patience=2,\n",
        "                           verbose=1,\n",
        "                           min_delta=0.001)\n",
        "callbacks=[early_stopping,decay_lr]"
      ]
    },
    {
      "cell_type": "code",
      "execution_count": null,
      "metadata": {
        "colab": {
          "base_uri": "https://localhost:8080/"
        },
        "id": "C_Wdl_n4jB5X",
        "outputId": "bde8cb21-1a74-447c-fa57-820cf5481718",
        "collapsed": true
      },
      "outputs": [
        {
          "name": "stdout",
          "output_type": "stream",
          "text": [
            "Epoch 1/40\n",
            "525/525 - 50s - loss: 190.4982 - mae: 10.3090 - mse: 190.4982 - val_loss: 140.9581 - val_mae: 8.9275 - val_mse: 140.9581 - lr: 0.0010 - 50s/epoch - 96ms/step\n",
            "Epoch 2/40\n",
            "525/525 - 49s - loss: 125.2064 - mae: 8.2744 - mse: 125.2064 - val_loss: 145.9199 - val_mae: 9.1542 - val_mse: 145.9199 - lr: 0.0010 - 49s/epoch - 94ms/step\n",
            "Epoch 3/40\n",
            "525/525 - 50s - loss: 102.6419 - mae: 7.4435 - mse: 102.6419 - val_loss: 119.6428 - val_mae: 8.0370 - val_mse: 119.6428 - lr: 0.0010 - 50s/epoch - 95ms/step\n",
            "Epoch 4/40\n",
            "525/525 - 41s - loss: 93.2957 - mae: 7.0845 - mse: 93.2957 - val_loss: 115.6839 - val_mae: 7.8183 - val_mse: 115.6839 - lr: 0.0010 - 41s/epoch - 78ms/step\n",
            "Epoch 5/40\n",
            "525/525 - 49s - loss: 82.9428 - mae: 6.6985 - mse: 82.9428 - val_loss: 118.6290 - val_mae: 7.8697 - val_mse: 118.6290 - lr: 0.0010 - 49s/epoch - 94ms/step\n",
            "Epoch 6/40\n",
            "525/525 - 41s - loss: 75.2641 - mae: 6.4009 - mse: 75.2641 - val_loss: 112.5509 - val_mae: 7.5848 - val_mse: 112.5509 - lr: 0.0010 - 41s/epoch - 78ms/step\n",
            "Epoch 7/40\n",
            "525/525 - 41s - loss: 67.1264 - mae: 6.0524 - mse: 67.1264 - val_loss: 121.4337 - val_mae: 7.8793 - val_mse: 121.4337 - lr: 0.0010 - 41s/epoch - 78ms/step\n",
            "Epoch 8/40\n",
            "\n",
            "Epoch 8: ReduceLROnPlateau reducing learning rate to 0.00020000000949949026.\n",
            "525/525 - 41s - loss: 61.7299 - mae: 5.7849 - mse: 61.7299 - val_loss: 118.6776 - val_mae: 7.6953 - val_mse: 118.6776 - lr: 0.0010 - 41s/epoch - 78ms/step\n",
            "Epoch 9/40\n",
            "525/525 - 49s - loss: 44.1563 - mae: 4.8766 - mse: 44.1563 - val_loss: 114.1785 - val_mae: 7.5053 - val_mse: 114.1785 - lr: 2.0000e-04 - 49s/epoch - 94ms/step\n",
            "Epoch 10/40\n",
            "\n",
            "Epoch 10: ReduceLROnPlateau reducing learning rate to 4.0000001899898055e-05.\n",
            "525/525 - 50s - loss: 41.0339 - mae: 4.7044 - mse: 41.0339 - val_loss: 112.7019 - val_mae: 7.4718 - val_mse: 112.7019 - lr: 2.0000e-04 - 50s/epoch - 95ms/step\n",
            "Epoch 11/40\n",
            "Restoring model weights from the end of the best epoch: 6.\n",
            "525/525 - 50s - loss: 35.8230 - mae: 4.4022 - mse: 35.8230 - val_loss: 112.5798 - val_mae: 7.4821 - val_mse: 112.5798 - lr: 4.0000e-05 - 50s/epoch - 95ms/step\n",
            "Epoch 11: early stopping\n"
          ]
        },
        {
          "data": {
            "text/plain": [
              "<keras.callbacks.History at 0x7f317b43a250>"
            ]
          },
          "execution_count": 12,
          "metadata": {},
          "output_type": "execute_result"
        }
      ],
      "source": [
        "vgg_model_age.compile(loss='mse',optimizer='adam', metrics=['mae', 'mse'])\n",
        "vgg_model_age.fit(X2_train_age,y2_train_age,batch_size=16,\n",
        "                               epochs=40,validation_data=(X2_val_age, y2_val_age),\n",
        "                               callbacks=callbacks, verbose=2)"
      ]
    },
    {
      "cell_type": "code",
      "execution_count": null,
      "metadata": {
        "colab": {
          "base_uri": "https://localhost:8080/"
        },
        "id": "Yw872o5UBdTY",
        "outputId": "7bf4e28e-69e6-4fe5-ef56-2065cdc58fea"
      },
      "outputs": [
        {
          "name": "stdout",
          "output_type": "stream",
          "text": [
            "loss\n",
            "mae\n",
            "mse\n",
            "val_loss\n",
            "val_mae\n",
            "val_mse\n",
            "lr\n"
          ]
        }
      ],
      "source": [
        "vgg_age_history= vgg_model_age.history.history\n",
        "for i in vgg_age_history:\n",
        "  print(i)"
      ]
    },
    {
      "cell_type": "code",
      "execution_count": null,
      "metadata": {
        "colab": {
          "base_uri": "https://localhost:8080/",
          "height": 598
        },
        "id": "tWSp6xoyBf0b",
        "outputId": "4ca583b5-0150-4c79-c2e2-946728c1eee7"
      },
      "outputs": [
        {
          "data": {
            "image/png": "[encoded data removed]",
            "text/plain": [
              "<Figure size 432x288 with 1 Axes>"
            ]
          },
          "metadata": {
            "needs_background": "light"
          },
          "output_type": "display_data"
        },
        {
          "name": "stdout",
          "output_type": "stream",
          "text": [
            "\n",
            "\n",
            "\n"
          ]
        },
        {
          "data": {
            "image/png": "[encoded data removed]",
            "text/plain": [
              "<Figure size 432x288 with 1 Axes>"
            ]
          },
          "metadata": {
            "needs_background": "light"
          },
          "output_type": "display_data"
        }
      ],
      "source": [
        "def plot_metrics_age(history):\n",
        "\n",
        "    train_loss = history['loss']\n",
        "    val_loss = history['val_loss']\n",
        "    train_mae = history['mae']\n",
        "    val_mae = history['val_mae']\n",
        "\n",
        "    # Loss\n",
        "    plt.figure()\n",
        "    plt.plot(train_loss, label='Training Loss')\n",
        "    plt.plot(val_loss, label='Validation Loss')\n",
        "    plt.title('Loss')\n",
        "    plt.legend()\n",
        "    plt.show()\n",
        "    print('\\n\\n')\n",
        "\n",
        "    plt.figure()\n",
        "    plt.plot(train_mae, label='Training MAE')\n",
        "    plt.plot(val_mae, label='Validation MAE')\n",
        "    plt.title('Loss')\n",
        "    plt.legend()\n",
        "    plt.show()\n",
        "plot_metrics_age(vgg_age_history)"
      ]
    },
    {
      "cell_type": "markdown",
      "metadata": {
        "id": "g5sgmIs83N5A"
      },
      "source": [
        "### Predict on Gender"
      ]
    },
    {
      "cell_type": "code",
      "execution_count": null,
      "metadata": {
        "id": "9GAfowhYBf5E"
      },
      "outputs": [],
      "source": [
        "X2_train_gender,X2_val_gender, y2_train_gender, y2_val_gender = train_test_split(X2,gender_classes[:12000], test_size=0.3)"
      ]
    },
    {
      "cell_type": "code",
      "execution_count": null,
      "metadata": {
        "id": "NfADz5aABf88"
      },
      "outputs": [],
      "source": [
        "vgg_model_gender = Sequential([\n",
        "    base_model,\n",
        "\n",
        "    Flatten(),                                                                    # Flatten out layers\n",
        "    Dense(512, activation='relu'),\n",
        "    Dropout(0.05),\n",
        "\n",
        "    Dense(128, activation='relu'),\n",
        "    Dropout(0.05),\n",
        "\n",
        "    Dense(32, activation='relu'),\n",
        "    Dense(2, activation='softmax')\n",
        "])"
      ]
    },
    {
      "cell_type": "code",
      "execution_count": null,
      "metadata": {
        "colab": {
          "base_uri": "https://localhost:8080/"
        },
        "id": "9qnCLF-cBf_l",
        "outputId": "3cb1690a-1b5e-4f49-cdac-a3201aeb8165",
        "collapsed": true
      },
      "outputs": [
        {
          "name": "stdout",
          "output_type": "stream",
          "text": [
            "Epoch 1/40\n",
            "525/525 - 52s - loss: 0.4340 - accuracy: 0.7982 - mse: 0.1400 - val_loss: 0.3673 - val_accuracy: 0.8289 - val_mse: 0.1171 - lr: 0.0010 - 52s/epoch - 100ms/step\n",
            "Epoch 2/40\n",
            "525/525 - 50s - loss: 0.3206 - accuracy: 0.8575 - mse: 0.1004 - val_loss: 0.3427 - val_accuracy: 0.8408 - val_mse: 0.1082 - lr: 0.0010 - 50s/epoch - 95ms/step\n",
            "Epoch 3/40\n",
            "525/525 - 50s - loss: 0.2756 - accuracy: 0.8801 - mse: 0.0847 - val_loss: 0.3342 - val_accuracy: 0.8633 - val_mse: 0.0994 - lr: 0.0010 - 50s/epoch - 95ms/step\n",
            "Epoch 4/40\n",
            "525/525 - 41s - loss: 0.2466 - accuracy: 0.8963 - mse: 0.0751 - val_loss: 0.3546 - val_accuracy: 0.8694 - val_mse: 0.0985 - lr: 0.0010 - 41s/epoch - 79ms/step\n",
            "Epoch 5/40\n",
            "525/525 - 50s - loss: 0.2300 - accuracy: 0.9027 - mse: 0.0698 - val_loss: 0.3058 - val_accuracy: 0.8714 - val_mse: 0.0936 - lr: 0.0010 - 50s/epoch - 95ms/step\n",
            "Epoch 6/40\n",
            "525/525 - 50s - loss: 0.1963 - accuracy: 0.9190 - mse: 0.0592 - val_loss: 0.3433 - val_accuracy: 0.8644 - val_mse: 0.0999 - lr: 0.0010 - 50s/epoch - 95ms/step\n",
            "Epoch 7/40\n",
            "\n",
            "Epoch 7: ReduceLROnPlateau reducing learning rate to 0.00020000000949949026.\n",
            "525/525 - 41s - loss: 0.1761 - accuracy: 0.9280 - mse: 0.0528 - val_loss: 0.3988 - val_accuracy: 0.8364 - val_mse: 0.1186 - lr: 0.0010 - 41s/epoch - 79ms/step\n",
            "Epoch 8/40\n",
            "525/525 - 41s - loss: 0.1047 - accuracy: 0.9610 - mse: 0.0295 - val_loss: 0.3705 - val_accuracy: 0.8703 - val_mse: 0.0988 - lr: 2.0000e-04 - 41s/epoch - 79ms/step\n",
            "Epoch 9/40\n",
            "\n",
            "Epoch 9: ReduceLROnPlateau reducing learning rate to 4.0000001899898055e-05.\n",
            "525/525 - 50s - loss: 0.0839 - accuracy: 0.9695 - mse: 0.0234 - val_loss: 0.4238 - val_accuracy: 0.8681 - val_mse: 0.1065 - lr: 2.0000e-04 - 50s/epoch - 95ms/step\n",
            "Epoch 10/40\n",
            "Restoring model weights from the end of the best epoch: 5.\n",
            "525/525 - 42s - loss: 0.0611 - accuracy: 0.9794 - mse: 0.0163 - val_loss: 0.4405 - val_accuracy: 0.8694 - val_mse: 0.1040 - lr: 4.0000e-05 - 42s/epoch - 79ms/step\n",
            "Epoch 10: early stopping\n"
          ]
        },
        {
          "data": {
            "text/plain": [
              "<keras.callbacks.History at 0x7f5aa00d07d0>"
            ]
          },
          "execution_count": 20,
          "metadata": {},
          "output_type": "execute_result"
        }
      ],
      "source": [
        "vgg_model_gender.compile(loss='categorical_crossentropy',optimizer='adam', metrics=['accuracy', 'mse'])\n",
        "vgg_model_gender.fit(X2_train_gender,y2_train_gender,batch_size=16,\n",
        "                               epochs=40,validation_data=(X2_val_gender, y2_val_gender),\n",
        "                               callbacks=callbacks, verbose=2)"
      ]
    },
    {
      "cell_type": "code",
      "execution_count": null,
      "metadata": {
        "id": "ca2MFZhggtaQ"
      },
      "outputs": [],
      "source": [
        "X_data =[]\n",
        "count=0\n",
        "for i in dataset[:12000]:\n",
        "  face = Image.open(i)\n",
        "  face = face.resize((128, 128))\n",
        "  X_data.append(np.asarray(face))\n",
        "\n",
        "\n",
        "X = np.squeeze(X_data)\n",
        "X = X.astype('float32')\n",
        "X /= 255\n",
        "X_train_age,X_val_age, y_train_age, y_val_age = train_test_split(X,age[:12000], test_size=0.30)\n",
        "from tensorflow.keras.applications.vgg16 import VGG16\n",
        "from tensorflow.keras.applications.vgg16 import preprocess_input\n",
        "\n",
        "## Loading VGG16 model\n",
        "base_model = VGG16(weights=\"imagenet\", include_top=False, input_shape=(128,128,3))\n",
        "base_model.trainable = False\n",
        "base_model.summary()"
      ]
    },
    {
      "cell_type": "code",
      "execution_count": null,
      "metadata": {
        "colab": {
          "base_uri": "https://localhost:8080/"
        },
        "id": "svOXCl11o72u",
        "outputId": "1fa0337f-910a-47dc-f3b3-1ecbbf124a77"
      },
      "outputs": [
        {
          "name": "stdout",
          "output_type": "stream",
          "text": [
            "loss\n",
            "mae\n",
            "mse\n",
            "val_loss\n",
            "val_mae\n",
            "val_mse\n",
            "lr\n"
          ]
        }
      ],
      "source": [
        "vgg_age_history= vgg_model_age.history.history\n",
        "for i in vgg_age_history:\n",
        "  print(i)"
      ]
    },
    {
      "cell_type": "code",
      "execution_count": null,
      "metadata": {
        "colab": {
          "base_uri": "https://localhost:8080/",
          "height": 597
        },
        "id": "kJvR0dAMpXup",
        "outputId": "4670a1bf-d659-40bb-a87b-d0147fc13780"
      },
      "outputs": [
        {
          "data": {
            "image/png": "[encoded data removed]",
            "text/plain": [
              "<Figure size 432x288 with 1 Axes>"
            ]
          },
          "metadata": {
            "needs_background": "light"
          },
          "output_type": "display_data"
        },
        {
          "name": "stdout",
          "output_type": "stream",
          "text": [
            "\n",
            "\n",
            "\n"
          ]
        },
        {
          "data": {
            "image/png": "[encoded data removed]",
            "text/plain": [
              "<Figure size 432x288 with 1 Axes>"
            ]
          },
          "metadata": {
            "needs_background": "light"
          },
          "output_type": "display_data"
        }
      ],
      "source": [
        "plot_metrics_age(vgg_age_history)"
      ]
    },
    {
      "cell_type": "markdown",
      "metadata": {
        "id": "1jcc2KkC3QVO"
      },
      "source": [
        "# Predict on Gender"
      ]
    },
    {
      "cell_type": "code",
      "execution_count": null,
      "metadata": {
        "colab": {
          "base_uri": "https://localhost:8080/"
        },
        "id": "LfM6SuuQqgLI",
        "outputId": "a1ccaa37-0c59-46bb-b94d-dfce9bcc9f93",
        "collapsed": true
      },
      "outputs": [
        {
          "name": "stdout",
          "output_type": "stream",
          "text": [
            "Model: \"vgg16\"\n",
            "_________________________________________________________________\n",
            " Layer (type)                Output Shape              Param #   \n",
            "=================================================================\n",
            " input_1 (InputLayer)        [(None, 128, 128, 3)]     0         \n",
            "                                                                 \n",
            " block1_conv1 (Conv2D)       (None, 128, 128, 64)      1792      \n",
            "                                                                 \n",
            " block1_conv2 (Conv2D)       (None, 128, 128, 64)      36928     \n",
            "                                                                 \n",
            " block1_pool (MaxPooling2D)  (None, 64, 64, 64)        0         \n",
            "                                                                 \n",
            " block2_conv1 (Conv2D)       (None, 64, 64, 128)       73856     \n",
            "                                                                 \n",
            " block2_conv2 (Conv2D)       (None, 64, 64, 128)       147584    \n",
            "                                                                 \n",
            " block2_pool (MaxPooling2D)  (None, 32, 32, 128)       0         \n",
            "                                                                 \n",
            " block3_conv1 (Conv2D)       (None, 32, 32, 256)       295168    \n",
            "                                                                 \n",
            " block3_conv2 (Conv2D)       (None, 32, 32, 256)       590080    \n",
            "                                                                 \n",
            " block3_conv3 (Conv2D)       (None, 32, 32, 256)       590080    \n",
            "                                                                 \n",
            " block3_pool (MaxPooling2D)  (None, 16, 16, 256)       0         \n",
            "                                                                 \n",
            " block4_conv1 (Conv2D)       (None, 16, 16, 512)       1180160   \n",
            "                                                                 \n",
            " block4_conv2 (Conv2D)       (None, 16, 16, 512)       2359808   \n",
            "                                                                 \n",
            " block4_conv3 (Conv2D)       (None, 16, 16, 512)       2359808   \n",
            "                                                                 \n",
            " block4_pool (MaxPooling2D)  (None, 8, 8, 512)         0         \n",
            "                                                                 \n",
            " block5_conv1 (Conv2D)       (None, 8, 8, 512)         2359808   \n",
            "                                                                 \n",
            " block5_conv2 (Conv2D)       (None, 8, 8, 512)         2359808   \n",
            "                                                                 \n",
            " block5_conv3 (Conv2D)       (None, 8, 8, 512)         2359808   \n",
            "                                                                 \n",
            " block5_pool (MaxPooling2D)  (None, 4, 4, 512)         0         \n",
            "                                                                 \n",
            "=================================================================\n",
            "Total params: 14,714,688\n",
            "Trainable params: 0\n",
            "Non-trainable params: 14,714,688\n",
            "_________________________________________________________________\n"
          ]
        }
      ],
      "source": [
        "X2_train_gender,X2_val_gender, y2_train_gender, y2_val_gender = train_test_split(X2,gender_classes[:12000], test_size=0.3)\n",
        "from tensorflow.keras.applications.vgg16 import VGG16\n",
        "from tensorflow.keras.applications.vgg16 import preprocess_input\n",
        "\n",
        "## Loading VGG16 model\n",
        "base_model = VGG16(weights=\"imagenet\", include_top=False, input_shape=(128,128,3))\n",
        "base_model.trainable = False\n",
        "base_model.summary()"
      ]
    },
    {
      "cell_type": "code",
      "execution_count": null,
      "metadata": {
        "id": "_lOL9UrLrkoD"
      },
      "outputs": [],
      "source": [
        "vgg_model_gender = Sequential([\n",
        "    base_model,\n",
        "\n",
        "    Flatten(),                                                                    # Flatten out layers\n",
        "    Dense(512, activation='relu'),\n",
        "    Dropout(0.05),\n",
        "\n",
        "    Dense(128, activation='relu'),\n",
        "    Dropout(0.05),\n",
        "\n",
        "    Dense(32, activation='relu'),\n",
        "    Dense(2, activation='softmax')\n",
        "])"
      ]
    },
    {
      "cell_type": "code",
      "execution_count": null,
      "metadata": {
        "id": "e4sR1_lXr0e_"
      },
      "outputs": [],
      "source": [
        "vgg_gender_history= vgg_model_gender.history.history"
      ]
    },
    {
      "cell_type": "code",
      "execution_count": null,
      "metadata": {
        "colab": {
          "base_uri": "https://localhost:8080/"
        },
        "id": "Mmlhv3EYraf_",
        "outputId": "2cf001b9-fb02-4ba3-b368-4beb378b4d52",
        "collapsed": true
      },
      "outputs": [
        {
          "name": "stdout",
          "output_type": "stream",
          "text": [
            "Epoch 1/40\n",
            "525/525 - 45s - loss: 0.2026 - accuracy: 0.9179 - mse: 0.0605 - val_loss: 0.3126 - val_accuracy: 0.8664 - val_mse: 0.0931 - lr: 0.0010 - 45s/epoch - 86ms/step\n",
            "Epoch 2/40\n",
            "525/525 - 50s - loss: 0.1714 - accuracy: 0.9292 - mse: 0.0507 - val_loss: 0.4018 - val_accuracy: 0.8711 - val_mse: 0.1010 - lr: 0.0010 - 50s/epoch - 95ms/step\n",
            "Epoch 3/40\n",
            "\n",
            "Epoch 3: ReduceLROnPlateau reducing learning rate to 0.00020000000949949026.\n",
            "525/525 - 50s - loss: 0.1515 - accuracy: 0.9380 - mse: 0.0456 - val_loss: 0.3490 - val_accuracy: 0.8553 - val_mse: 0.1050 - lr: 0.0010 - 50s/epoch - 95ms/step\n",
            "Epoch 4/40\n",
            "525/525 - 42s - loss: 0.0885 - accuracy: 0.9686 - mse: 0.0247 - val_loss: 0.4337 - val_accuracy: 0.8692 - val_mse: 0.1039 - lr: 2.0000e-04 - 42s/epoch - 79ms/step\n",
            "Epoch 5/40\n",
            "\n",
            "Epoch 5: ReduceLROnPlateau reducing learning rate to 4.0000001899898055e-05.\n",
            "525/525 - 50s - loss: 0.0680 - accuracy: 0.9743 - mse: 0.0188 - val_loss: 0.4795 - val_accuracy: 0.8728 - val_mse: 0.1031 - lr: 2.0000e-04 - 50s/epoch - 95ms/step\n",
            "Epoch 6/40\n",
            "Restoring model weights from the end of the best epoch: 1.\n",
            "525/525 - 50s - loss: 0.0487 - accuracy: 0.9840 - mse: 0.0129 - val_loss: 0.4868 - val_accuracy: 0.8706 - val_mse: 0.1053 - lr: 4.0000e-05 - 50s/epoch - 95ms/step\n",
            "Epoch 6: early stopping\n"
          ]
        },
        {
          "data": {
            "text/plain": [
              "<keras.callbacks.History at 0x7f5a37eda150>"
            ]
          },
          "execution_count": 22,
          "metadata": {},
          "output_type": "execute_result"
        }
      ],
      "source": [
        "vgg_model_gender.compile(loss='categorical_crossentropy',optimizer='adam', metrics=['accuracy', 'mse'])\n",
        "vgg_model_gender.fit(X2_train_gender,y2_train_gender,batch_size=16,\n",
        "                               epochs=40,validation_data=(X2_val_gender, y2_val_gender),\n",
        "                               callbacks=callbacks, verbose=2)"
      ]
    },
    {
      "cell_type": "code",
      "execution_count": null,
      "metadata": {
        "id": "9qjOsJugXWMM"
      },
      "outputs": [],
      "source": [
        "def plot_metrics(history):\n",
        "\n",
        "    train_loss = history['loss']\n",
        "    val_loss = history['val_loss']\n",
        "    train_acc = history['accuracy']\n",
        "    val_acc = history['val_accuracy']\n",
        "\n",
        "    # Loss\n",
        "    plt.figure()\n",
        "    plt.plot(train_loss, label='Training Loss')\n",
        "    plt.plot(val_loss, label='Validation Loss')\n",
        "    plt.title('Loss')\n",
        "    plt.legend()\n",
        "    plt.show()\n",
        "    print('\\n\\n')\n",
        "\n",
        "    # Accuracy\n",
        "    plt.figure()\n",
        "    plt.plot(train_acc, label='Training Accuracy')\n",
        "    plt.plot(val_acc, label='Validation Accuracy')\n",
        "    plt.title('Accuracy')\n",
        "    plt.legend()\n",
        "    plt.show()\n"
      ]
    },
    {
      "cell_type": "code",
      "execution_count": null,
      "metadata": {
        "colab": {
          "base_uri": "https://localhost:8080/",
          "height": 598
        },
        "id": "wpuIAhYWtQ3Z",
        "outputId": "2d6d21c9-a36a-4360-e7ac-52a8f44f46f5"
      },
      "outputs": [
        {
          "data": {
            "image/png": "[encoded data removed]",
            "text/plain": [
              "<Figure size 432x288 with 1 Axes>"
            ]
          },
          "metadata": {
            "needs_background": "light"
          },
          "output_type": "display_data"
        },
        {
          "name": "stdout",
          "output_type": "stream",
          "text": [
            "\n",
            "\n",
            "\n"
          ]
        },
        {
          "data": {
            "image/png": "[encoded data removed]",
            "text/plain": [
              "<Figure size 432x288 with 1 Axes>"
            ]
          },
          "metadata": {
            "needs_background": "light"
          },
          "output_type": "display_data"
        }
      ],
      "source": [
        "plot_metrics(vgg_gender_history)"
      ]
    },
    {
      "cell_type": "markdown",
      "metadata": {
        "id": "1oN9mjQw3XTc"
      },
      "source": [
        "### Predict on Ethnicity"
      ]
    },
    {
      "cell_type": "code",
      "execution_count": null,
      "metadata": {
        "colab": {
          "base_uri": "https://localhost:8080/"
        },
        "id": "tS9ijjiUtccr",
        "outputId": "507cf7bf-61ef-4cb5-a809-b1473280a7c9",
        "collapsed": true
      },
      "outputs": [
        {
          "name": "stdout",
          "output_type": "stream",
          "text": [
            "Model: \"vgg16\"\n",
            "_________________________________________________________________\n",
            " Layer (type)                Output Shape              Param #   \n",
            "=================================================================\n",
            " input_1 (InputLayer)        [(None, 128, 128, 3)]     0         \n",
            "                                                                 \n",
            " block1_conv1 (Conv2D)       (None, 128, 128, 64)      1792      \n",
            "                                                                 \n",
            " block1_conv2 (Conv2D)       (None, 128, 128, 64)      36928     \n",
            "                                                                 \n",
            " block1_pool (MaxPooling2D)  (None, 64, 64, 64)        0         \n",
            "                                                                 \n",
            " block2_conv1 (Conv2D)       (None, 64, 64, 128)       73856     \n",
            "                                                                 \n",
            " block2_conv2 (Conv2D)       (None, 64, 64, 128)       147584    \n",
            "                                                                 \n",
            " block2_pool (MaxPooling2D)  (None, 32, 32, 128)       0         \n",
            "                                                                 \n",
            " block3_conv1 (Conv2D)       (None, 32, 32, 256)       295168    \n",
            "                                                                 \n",
            " block3_conv2 (Conv2D)       (None, 32, 32, 256)       590080    \n",
            "                                                                 \n",
            " block3_conv3 (Conv2D)       (None, 32, 32, 256)       590080    \n",
            "                                                                 \n",
            " block3_pool (MaxPooling2D)  (None, 16, 16, 256)       0         \n",
            "                                                                 \n",
            " block4_conv1 (Conv2D)       (None, 16, 16, 512)       1180160   \n",
            "                                                                 \n",
            " block4_conv2 (Conv2D)       (None, 16, 16, 512)       2359808   \n",
            "                                                                 \n",
            " block4_conv3 (Conv2D)       (None, 16, 16, 512)       2359808   \n",
            "                                                                 \n",
            " block4_pool (MaxPooling2D)  (None, 8, 8, 512)         0         \n",
            "                                                                 \n",
            " block5_conv1 (Conv2D)       (None, 8, 8, 512)         2359808   \n",
            "                                                                 \n",
            " block5_conv2 (Conv2D)       (None, 8, 8, 512)         2359808   \n",
            "                                                                 \n",
            " block5_conv3 (Conv2D)       (None, 8, 8, 512)         2359808   \n",
            "                                                                 \n",
            " block5_pool (MaxPooling2D)  (None, 4, 4, 512)         0         \n",
            "                                                                 \n",
            "=================================================================\n",
            "Total params: 14,714,688\n",
            "Trainable params: 0\n",
            "Non-trainable params: 14,714,688\n",
            "_________________________________________________________________\n"
          ]
        }
      ],
      "source": [
        "X2_train_ethnicity,X2_val_ethnicity, y2_train_ethnicity, y2_val_ethnicity = train_test_split(X2,ethnicity_classes[:12000], test_size=0.3)\n",
        "from tensorflow.keras.applications.vgg16 import VGG16\n",
        "from tensorflow.keras.applications.vgg16 import preprocess_input\n",
        "\n",
        "## Loading VGG16 model\n",
        "base_model = VGG16(weights=\"imagenet\", include_top=False, input_shape=(128,128,3))\n",
        "base_model.trainable = False\n",
        "base_model.summary()"
      ]
    },
    {
      "cell_type": "code",
      "execution_count": null,
      "metadata": {
        "id": "ik02aRXcunIs"
      },
      "outputs": [],
      "source": [
        "vgg_model_ethnicity = Sequential([\n",
        "    base_model,\n",
        "\n",
        "    Flatten(),                                                                                                 # Flatten out layers\n",
        "\n",
        "    Dense(128, activation='relu'),\n",
        "    Dropout(0.05),\n",
        "\n",
        "    Dense(32, activation='relu'),\n",
        "    Dense(5, activation='softmax')\n",
        "])"
      ]
    },
    {
      "cell_type": "code",
      "execution_count": null,
      "metadata": {
        "colab": {
          "base_uri": "https://localhost:8080/"
        },
        "id": "2AEdsNbmtl6U",
        "outputId": "e334081d-eb1c-4312-ab77-b96eccb7da8a",
        "collapsed": true
      },
      "outputs": [
        {
          "name": "stdout",
          "output_type": "stream",
          "text": [
            "Epoch 1/10\n",
            "525/525 - 50s - loss: 1.1056 - accuracy: 0.5810 - mse: 0.1104 - val_loss: 0.9566 - val_accuracy: 0.6564 - val_mse: 0.0951 - lr: 0.0010 - 50s/epoch - 95ms/step\n",
            "Epoch 2/10\n",
            "525/525 - 40s - loss: 0.8893 - accuracy: 0.6724 - mse: 0.0895 - val_loss: 0.9178 - val_accuracy: 0.6572 - val_mse: 0.0922 - lr: 0.0010 - 40s/epoch - 77ms/step\n",
            "Epoch 3/10\n",
            "525/525 - 40s - loss: 0.7793 - accuracy: 0.7189 - mse: 0.0784 - val_loss: 0.8997 - val_accuracy: 0.6747 - val_mse: 0.0902 - lr: 0.0010 - 40s/epoch - 77ms/step\n",
            "Epoch 4/10\n",
            "525/525 - 40s - loss: 0.7134 - accuracy: 0.7374 - mse: 0.0730 - val_loss: 0.8134 - val_accuracy: 0.7028 - val_mse: 0.0818 - lr: 0.0010 - 40s/epoch - 77ms/step\n",
            "Epoch 5/10\n",
            "525/525 - 49s - loss: 0.6240 - accuracy: 0.7770 - mse: 0.0635 - val_loss: 0.8854 - val_accuracy: 0.6881 - val_mse: 0.0873 - lr: 0.0010 - 49s/epoch - 93ms/step\n",
            "Epoch 6/10\n",
            "\n",
            "Epoch 6: ReduceLROnPlateau reducing learning rate to 0.00020000000949949026.\n",
            "525/525 - 49s - loss: 0.5700 - accuracy: 0.7908 - mse: 0.0586 - val_loss: 0.8724 - val_accuracy: 0.7100 - val_mse: 0.0844 - lr: 0.0010 - 49s/epoch - 94ms/step\n",
            "Epoch 7/10\n",
            "525/525 - 41s - loss: 0.4172 - accuracy: 0.8487 - mse: 0.0429 - val_loss: 0.8456 - val_accuracy: 0.7200 - val_mse: 0.0811 - lr: 2.0000e-04 - 41s/epoch - 78ms/step\n",
            "Epoch 8/10\n",
            "\n",
            "Epoch 8: ReduceLROnPlateau reducing learning rate to 4.0000001899898055e-05.\n",
            "525/525 - 40s - loss: 0.3843 - accuracy: 0.8669 - mse: 0.0395 - val_loss: 0.8418 - val_accuracy: 0.7178 - val_mse: 0.0809 - lr: 2.0000e-04 - 40s/epoch - 77ms/step\n",
            "Epoch 9/10\n",
            "Restoring model weights from the end of the best epoch: 4.\n",
            "525/525 - 41s - loss: 0.3388 - accuracy: 0.8846 - mse: 0.0344 - val_loss: 0.8589 - val_accuracy: 0.7206 - val_mse: 0.0815 - lr: 4.0000e-05 - 41s/epoch - 77ms/step\n",
            "Epoch 9: early stopping\n"
          ]
        },
        {
          "data": {
            "text/plain": [
              "<keras.callbacks.History at 0x7f4930615c50>"
            ]
          },
          "execution_count": 13,
          "metadata": {},
          "output_type": "execute_result"
        }
      ],
      "source": [
        "vgg_model_ethnicity.compile(loss='categorical_crossentropy',optimizer='adam', metrics=['accuracy', 'mse'])\n",
        "vgg_model_ethnicity.fit(X2_train_ethnicity,y2_train_ethnicity,batch_size=16,\n",
        "                               epochs=10,validation_data=(X2_val_ethnicity, y2_val_ethnicity),\n",
        "                               callbacks=callbacks, verbose=2)"
      ]
    },
    {
      "cell_type": "code",
      "execution_count": null,
      "metadata": {
        "id": "FKR8pCY5ukZV"
      },
      "outputs": [],
      "source": [
        "vgg_ethnicity_history= vgg_model_ethnicity.history.history"
      ]
    },
    {
      "cell_type": "code",
      "execution_count": null,
      "metadata": {
        "colab": {
          "base_uri": "https://localhost:8080/",
          "height": 598
        },
        "id": "1I2NYtPtv5YZ",
        "outputId": "6d5c50c6-1e5d-4550-ba24-d410a15b19ab"
      },
      "outputs": [
        {
          "data": {
            "image/png": "[encoded data removed]",
            "text/plain": [
              "<Figure size 432x288 with 1 Axes>"
            ]
          },
          "metadata": {
            "needs_background": "light"
          },
          "output_type": "display_data"
        },
        {
          "name": "stdout",
          "output_type": "stream",
          "text": [
            "\n",
            "\n",
            "\n"
          ]
        },
        {
          "data": {
            "image/png": "[encoded data removed]",
            "text/plain": [
              "<Figure size 432x288 with 1 Axes>"
            ]
          },
          "metadata": {
            "needs_background": "light"
          },
          "output_type": "display_data"
        }
      ],
      "source": [
        "plot_metrics(vgg_ethnicity_history)"
      ]
    },
    {
      "cell_type": "markdown",
      "metadata": {
        "id": "7QfIKTpD3o5P"
      },
      "source": [
        "# Comments"
      ]
    },
    {
      "cell_type": "markdown",
      "metadata": {
        "id": "uGwv66D53lL7"
      },
      "source": [
        "Transferring the learned weights from VGG to new modelhelped with the model training to reduce the resources needed.  I used mean squared and absolute error for the first time as well as an optimizer (adam), all of which I had previously heard about. I also found out how long working with 24000 image files would take and how to plan for and work with that. Some choices had to be made based on the time cost attributed to this project. Working with only 10 epochs and half the data were two of them."
      ]
    },
    {
      "cell_type": "markdown",
      "metadata": {
        "id": "nhw8WbJS56s4"
      },
      "source": [
        "I consider the transfer learning technique to be effective in this case as using only 10 epochs, the accuracy and losses were good enough that further tuning looked promising. This is probably because the VGG was done on human faces, even with angles, and the UTKFace seems to be a subset of the options in the vgg data."
      ]
    },
    {
      "cell_type": "code",
      "source": [],
      "metadata": {
        "id": "37FrW-6EGugT"
      },
      "execution_count": null,
      "outputs": []
    }
  ],
  "metadata": {
    "accelerator": "GPU",
    "colab": {
      "collapsed_sections": [
        "P17UZWG-2dja"
      ],
      "provenance": [],
      "toc_visible": true
    },
    "kernelspec": {
      "display_name": "Python 3",
      "name": "python3"
    },
    "language_info": {
      "name": "python"
    }
  },
  "nbformat": 4,
  "nbformat_minor": 0
}